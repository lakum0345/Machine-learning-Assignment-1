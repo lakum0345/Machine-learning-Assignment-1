{
 "cells": [
  {
   "cell_type": "code",
   "execution_count": 4,
   "id": "64e62cd1-1abf-4a76-be85-2f74ddb2fde7",
   "metadata": {},
   "outputs": [
    {
     "name": "stdout",
     "output_type": "stream",
     "text": [
      "sorted ages : [19, 19, 20, 22, 24, 24, 24, 25, 25, 26]\n",
      "min : 19\n",
      "max : 26\n",
      "after adding min and max : [19, 19, 20, 22, 24, 24, 24, 25, 25, 26, 19, 26]\n"
     ]
    }
   ],
   "source": [
    "#Question 1\n",
    "#The following is a list of 10 students ages: ages = [19, 22, 19, 24, 20, 25, 26, 24, 25, 24]\n",
    "#• Sort the list and find the min and max age\n",
    "#• Add the min age and the max age again to the list\n",
    "\n",
    "ages=[19,22,19,24,20,25,26,24,25,24]\n",
    "#sorting the list using sort function\n",
    "ages.sort()\n",
    "#finding minimum and maximum ages\n",
    "a=min(ages)\n",
    "b=max(ages)\n",
    "print(\"sorted ages :\",ages)\n",
    "print('min :',a)\n",
    "print('max :',b)\n",
    "#adding minimum and maximum ages to the original list\n",
    "ages.extend([a,b])\n",
    "print(\"after adding min and max :\",ages)"
   ]
  },
  {
   "cell_type": "code",
   "execution_count": 5,
   "id": "a2fb28be",
   "metadata": {},
   "outputs": [
    {
     "name": "stdout",
     "output_type": "stream",
     "text": [
      "median : 24\n",
      "average age : 22.8\n",
      "range : 7\n"
     ]
    }
   ],
   "source": [
    "#The following is a list of 10 students ages: ages = [19, 22, 19, 24, 20, 25, 26, 24, 25, 24]\n",
    "#• Find the median age (one middle item or two middle items divided by two)\n",
    "#• Find the average age (sum of all items divided by their number)\n",
    "#• Find the range of the ages (max minus min)\n",
    "import statistics\n",
    "ages=[19,22,19,24,20,25,26,24,25,24]\n",
    "ages.sort()\n",
    "a=len(ages)\n",
    "#finding median of the given data\n",
    "if(a%2==0) :\n",
    "    b=int(a/2)\n",
    "    median = int((ages[b]+ages[b-1])/2)\n",
    "else :\n",
    "    b=int(a/2)\n",
    "    median = int(ages[b])\n",
    "print(\"median :\",median)\n",
    "mean = sum (ages) / a\n",
    "print(\"average age :\",mean)\n",
    "print(\"range :\",(max(ages)-min(ages)))"
   ]
  },
  {
   "cell_type": "code",
   "execution_count": 2,
   "id": "ca19da17",
   "metadata": {},
   "outputs": [
    {
     "name": "stdout",
     "output_type": "stream",
     "text": [
      "<class 'dict'>\n",
      "{'Name': 'Rambo', 'Color': 'Golden Cream', 'Breed': 'Laborador', 'Legs': 4, 'age': 10}\n",
      "{'first_name': 'Rahul', 'last_name': 'Lakum', 'gender': 'Male', 'age': 26, 'marital_status': 'Not Married', 'skills': ['CATIA 3D Modelling', 'Volley ball', 'Music', 'Cricket'], 'country': 'United States', 'city': 'Overland Park', 'address': 'Ranch at trace'}\n",
      "9\n",
      "<class 'list'>\n",
      "['CATIA 3D Modelling', 'Volley ball', 'Music', 'Cricket', 'Break Dance']\n",
      "['first_name', 'last_name', 'gender', 'age', 'marital_status', 'skills', 'country', 'city', 'address']\n",
      "['Rahul', 'Lakum', 'Male', 26, 'Not Married', ['CATIA 3D Modelling', 'Volley ball', 'Music', 'Cricket', 'Break Dance'], 'United States', 'Overland Park', 'Ranch at trace']\n"
     ]
    }
   ],
   "source": [
    "#2.1  Create an empty dictionary called dog\n",
    "dog = {}\n",
    "print(type(dog))\n",
    "\n",
    "#2.2 Add name, color, breed, legs, age to the dog dictionary\n",
    "dog = { \"Name\" : \"Rambo\", \"Color\": \"Golden Cream\" , \"Breed\" : \"Laborador\", \"Legs\" : 4, \"age\" : 10 } \n",
    "print(dog)\n",
    "\n",
    "#2.3 Create a student dictionary and add first_name, last_name, gender, age, marital status, skills, country, city and address as keys for the dictionary\n",
    "Student = {}\n",
    "Student = { \"first_name\": \"Rahul\", \"last_name\": \"Lakum\", \"gender\":\"Male\", \"age\":26, \"marital_status\": \"Not Married\", \"skills\":[\"CATIA 3D Modelling\",\"Volley ball\",\"Music\",\"Cricket\"], \"country\":\"United States\",\"city\":\"Overland Park\",\"address\": \"Ranch at trace\"}\n",
    "print(Student)\n",
    "\n",
    "#2.4 Get the length of the student dictionary\n",
    "print(len(Student))\n",
    "\n",
    "#2.5 Get the value of skills and check the data type, it should be a list\n",
    "Student[\"skills\"]\n",
    "print(type(Student[\"skills\"]))\n",
    "\n",
    "#2.5 Modify the skills values by adding one or two skills\n",
    "Student[\"skills\"].append(\"Break Dance\")\n",
    "print(Student[\"skills\"])\n",
    "\n",
    "#2.6 Get the dictionary keys as a list\n",
    "print (list(Student.keys()))\n",
    "\n",
    "#2.7 Get the dictionary values as a list\n",
    "print (list(Student.values()))\n",
    "\n",
    "\n"
   ]
  },
  {
   "cell_type": "code",
   "execution_count": 6,
   "id": "047ef742-de34-408c-901f-b3846b96fa84",
   "metadata": {},
   "outputs": [
    {
     "name": "stdout",
     "output_type": "stream",
     "text": [
      "sisters :  ('Hannie', 'Mouni', 'Sruthi')\n",
      "<class 'tuple'>\n",
      "brothers : ('Chintu', 'Suchith', 'Chetan', 'Venu')\n",
      "<class 'tuple'>\n",
      "siblings : ('Hannie', 'Mouni', 'Sruthi', 'Chintu', 'Suchith', 'Chetan', 'Venu')\n",
      "7\n",
      "('Hannie', 'Mouni', 'Sruthi', 'Chintu', 'Suchith', 'Chetan', 'Venu', 'Surender L', 'Anasuya L')\n"
     ]
    }
   ],
   "source": [
    "#Question 3\n",
    "\n",
    "#3.1 Create a tuple containing names of your sisters and your brothers (imaginary siblings are fine)\n",
    "sisters = (\"Hannie\",\"Mouni\",\"Sruthi\")\n",
    "print(\"sisters : \",sisters)\n",
    "print(type(sisters))\n",
    "brothers = (\"Chintu\",\"Suchith\", \"Chetan\", \"Venu\")\n",
    "print(\"brothers :\", brothers)\n",
    "print(type(brothers))\n",
    "#3.2 Join brothers and sisters tuples and assign it to siblings\n",
    "siblings = sisters + brothers\n",
    "print(\"siblings :\", siblings)\n",
    "\n",
    "#3.3 How many siblings do you have?\n",
    "print(len(siblings))\n",
    "\n",
    "#3.4 Modify the siblings tuple and add the name of your father and mother and assign it to family_members\n",
    " \n",
    "family_members = siblings + ((\"Surender L\" , \"Anasuya L\"))\n",
    "\n",
    "print(family_members)\n",
    "\n",
    "\n"
   ]
  },
  {
   "cell_type": "code",
   "execution_count": 7,
   "id": "db965970",
   "metadata": {},
   "outputs": [
    {
     "name": "stdout",
     "output_type": "stream",
     "text": [
      "length of set_itcompanies: 7\n",
      "after Adding 'Twitter' to it_companies: ['Facebook', 'Google', 'Microsoft', 'Apple', 'IBM', 'Oracle', 'Amazon', 'Twitter']\n",
      "after inserting multiple IT companies: ['Facebook', 'Google', 'Microsoft', 'Apple', 'IBM', 'Oracle', 'Amazon', 'Twitter', 'Zensartech', 'Cyient', 'TechM']\n",
      "['Facebook', 'Google', 'Microsoft', 'Apple', 'IBM', 'Oracle', 'Amazon', 'Twitter', 'Zensartech', 'Cyient']\n"
     ]
    }
   ],
   "source": [
    "#question4\n",
    "import numpy\n",
    "it_companies = ['Facebook', 'Google', 'Microsoft', 'Apple', 'IBM', 'Oracle', 'Amazon']\n",
    "A = [19, 22, 24, 20, 25, 26]\n",
    "B = [19, 22, 20, 25, 26, 24, 28, 27]\n",
    "age = [22, 19, 24, 25, 26, 24, 25, 24]\n",
    "#finding length of list\n",
    "print(\"length of set_itcompanies:\",len(it_companies))\n",
    "#adding Twitter to list\n",
    "it_companies.append(\"Twitter\")\n",
    "print(\"after Adding 'Twitter' to it_companies:\",it_companies)\n",
    "#inserting ,multiple IT companies\n",
    "it_companies.extend([\"Zensartech\",\"Cyient\",\"TechM\"])\n",
    "print(\"after inserting multiple IT companies:\",it_companies)\n",
    "#Removing TechM from the set it_companies\n",
    "it_companies.remove(\"TechM\")\n",
    "print(it_companies)\n"
   ]
  },
  {
   "cell_type": "code",
   "execution_count": 8,
   "id": "ab6b4f71",
   "metadata": {},
   "outputs": [
    {
     "name": "stdout",
     "output_type": "stream",
     "text": [
      "{19, 20, 22, 24, 25, 26, 27, 28}\n",
      "{19, 20, 22, 24, 25, 26, 27, 28}\n",
      "{19, 20, 22, 24, 25, 26}\n",
      "True\n",
      "False\n",
      "{19, 20, 22, 24, 25, 26, 27, 28}\n",
      "{27, 28}\n",
      "set()\n",
      "set()\n",
      "{19, 22, 24, 25, 26}\n",
      "True\n"
     ]
    }
   ],
   "source": [
    "\n",
    "a = {19, 22, 24, 20, 25, 26}\n",
    "b = {19, 22, 20, 25, 26, 24, 28, 27}\n",
    "#adding a and b\n",
    "print(a.union(b))\n",
    "print(c)\n",
    "#Intersection function:\n",
    "print(a.intersection(b))\n",
    "#Is a subset of b\n",
    "print(a.issubset(b))\n",
    "#are a and b disjoint sets\n",
    "print(a.isdisjoint(b))\n",
    "#Joining a with b and b with a\n",
    "c=a.union(b)\n",
    "d=b.union(a)\n",
    "print(c.union(d))\n",
    "#the symmetric difference between a and b\n",
    "print(a.symmetric_difference(b))\n",
    "#deleting the sets completely\n",
    "a.clear()\n",
    "print(a)\n",
    "\n",
    "b.clear()\n",
    "print(b)\n",
    "#Convert the ages to a set and compare the length of the list and the set.\n",
    "print(set(age))\n",
    "print(len(set(age))<len(age))\n"
   ]
  },
  {
   "cell_type": "code",
   "execution_count": 10,
   "id": "9e9dbec9-4ba3-4534-be3b-3ef893a5a530",
   "metadata": {},
   "outputs": [
    {
     "name": "stdout",
     "output_type": "stream",
     "text": [
      "2827.4333882308138\n",
      "188.49555921538757\n",
      "please enter the radius value 21\n",
      "21\n",
      "1385.4423602330987\n"
     ]
    }
   ],
   "source": [
    "#Question 5\n",
    "#The radius of a circle is 30 meters.\n",
    "#5.1  Calculate the area of a circle and assign the value to a variable name of _area_of_circle_\n",
    "\n",
    "import math \n",
    "radius = 30\n",
    "#area of a circle formula = πr*r\n",
    "_area_of_circle_ = math.pi * (radius*radius)\n",
    "print(_area_of_circle_)\n",
    "\n",
    "#5.2 Calculate the circumference of a circle and assign the value to a variable name of _circum_of_circle_\n",
    "#circumference of a circle formula 2πr\n",
    "_circum_of_circle_ = 2*math.pi*radius\n",
    "print(_circum_of_circle_)\n",
    "\n",
    "#5.3 Take radius as user input and calculate the area.\n",
    "\n",
    "radius_up = int(input(\"please enter the radius value\"))\n",
    "print(radius_up)\n",
    "_area_of_circle_ = math.pi * (radius_up*radius_up)\n",
    "print(_area_of_circle_)\n",
    "\n"
   ]
  },
  {
   "cell_type": "code",
   "execution_count": 84,
   "id": "baa877dc-824f-4a08-a2d9-ccbc05250e58",
   "metadata": {},
   "outputs": [
    {
     "name": "stdout",
     "output_type": "stream",
     "text": [
      "words are {'am', 'love', 'to', 'teach', 'a', 'inspire', 'I', 'teacher', 'people', 'and'}\n",
      "['am', 'love', 'to', 'teach', 'a', 'inspire', 'I', 'teacher', 'people', 'and']\n",
      "['am', 'love', 'to', 'teach', 'a', 'inspire', 'I', 'teacher', 'people', 'and']\n"
     ]
    }
   ],
   "source": [
    "#Question 6\n",
    "#“I am a teacher and I love to inspire and teach people”\n",
    "#How many unique words have been used in the sentence? Use the split methods and set to get the unique words.\n",
    "\n",
    "given_Sentence = \"I am a teacher and I love to inspire and teach people\"\n",
    "words = set(given_Sentence.split(\" \"))\n",
    "print(\"words are\", words)\n",
    "            #(OR)\n",
    "def unique_words(sentence) : \n",
    "    words = list(set(sentence.split(\" \")))\n",
    "    print(words)\n",
    "    unique_words = []\n",
    "    for i in words: \n",
    "        if i not in unique_words: \n",
    "            unique_words.append(i)\n",
    "    print(unique_words) \n",
    "    \n",
    "unique_words(given_Sentence)\n"
   ]
  },
  {
   "cell_type": "code",
   "execution_count": 2,
   "id": "12571843-0404-44a3-b1ad-24f3b96156d1",
   "metadata": {},
   "outputs": [
    {
     "name": "stdout",
     "output_type": "stream",
     "text": [
      "Name\tAge\tCountry\tCity\n",
      "Asabeneh\t250\tFinland\tHelsinki\n"
     ]
    }
   ],
   "source": [
    "#Question 7\n",
    "#Use a tab escape sequence to get the following lines.\n",
    "# Name Age Country City\n",
    "# Asabeneh 250 Finland Helsinki\n",
    "\n",
    "print('Name\\tAge\\tCountry\\tCity')\n",
    "print('Asabeneh\\t250\\tFinland\\tHelsinki')\n"
   ]
  },
  {
   "cell_type": "code",
   "execution_count": 8,
   "id": "33115953-954b-43b0-9100-b2ea65ba572f",
   "metadata": {},
   "outputs": [
    {
     "name": "stdout",
     "output_type": "stream",
     "text": [
      "The area of a circle with radius 10 is 314 meters square.\n"
     ]
    }
   ],
   "source": [
    "#Question 8\n",
    "#Use the string formatting method to display the following:\n",
    "radius = 10\n",
    "area = 3.14 * radius ** 2\n",
    "#“The area of a circle with radius 10 is 314 meters square.”\n",
    "\n",
    "print('The area of a circle with radius %d is %i meters square.' %(radius, area))\n",
    "\n"
   ]
  },
  {
   "cell_type": "code",
   "execution_count": 11,
   "id": "01a87597-8365-4e2f-85a6-d591c6a695f0",
   "metadata": {},
   "outputs": [
    {
     "name": "stdout",
     "output_type": "stream",
     "text": [
      "please enter the student count in a class3\n",
      "Total no of students in a class is 3\n",
      "please enter the weight122\n",
      "please enter the weight132\n",
      "please enter the weight142\n",
      "Weights of students in lbs : [122, 132, 142]\n",
      "Weights of students in kgs 55.338224:\n",
      "Weights of students in kgs 59.874144:\n",
      "Weights of students in kgs 64.410064:\n"
     ]
    }
   ],
   "source": [
    "## Question 9\n",
    "#Write a program, which reads weights (lbs.) of N students into a list and convert these weights to kilograms in a \n",
    "#separate list using Loop. N: No of students (Read input from user)\n",
    "#Ex: L1: [150, 155, 145, 148]\n",
    "#Output: [68.03, 70.3, 65.77, 67.13]\n",
    "\n",
    "Students_num = int(input(\"please enter the student count in a class\"))\n",
    "print(\"Total no of students in a class is\", Students_num)\n",
    "Student_wt = []\n",
    "for i in range(0,Students_num):\n",
    "     Student_wt.append(int(input('please enter the weight')))\n",
    "print(\"Weights of students in lbs :\", Student_wt)   \n",
    "Student_kgs = []\n",
    "for i in range(0,Students_num):\n",
    "    Student_kgs.append(Student_wt[i]*0.453592)\n",
    "    print('Weights of students in kgs %2f:' %(Student_kgs[i]))\n",
    "    "
   ]
  },
  {
   "cell_type": "code",
   "execution_count": 64,
   "id": "fe56190a",
   "metadata": {},
   "outputs": [
    {
     "name": "stdout",
     "output_type": "stream",
     "text": [
      "1.0\n",
      "accuracy:  1.0\n",
      "sensitivity:  1.0\n",
      "specificity:  1.0\n",
      "              precision    recall  f1-score   support\n",
      "\n",
      "           0       1.00      1.00      1.00         1\n",
      "           x       1.00      1.00      1.00         1\n",
      "\n",
      "    accuracy                           1.00         2\n",
      "   macro avg       1.00      1.00      1.00         2\n",
      "weighted avg       1.00      1.00      1.00         2\n",
      "\n"
     ]
    },
    {
     "data": {
      "image/png": "[encoded data removed]",
      "text/plain": [
       "<Figure size 432x288 with 2 Axes>"
      ]
     },
     "metadata": {
      "needs_background": "light"
     },
     "output_type": "display_data"
    }
   ],
   "source": [
    "#question10\n",
    "# Import necessary modules\n",
    "import numpy as np\n",
    "import seaborn as sns\n",
    "import matplotlib.pyplot as plt\n",
    "from sklearn.model_selection import train_test_split\n",
    "from sklearn.neighbors import KNeighborsClassifier\n",
    "from sklearn.metrics import confusion_matrix, classification_report\n",
    "\n",
    "#taking data\n",
    "X = np.array([1,2,3,6,6,7,10,11]).reshape(-1,1)\n",
    "y = [0,0,1,1,1,0,0,0]\n",
    "\n",
    "# Split into training and test set\n",
    "X_train, X_test, y_train, y_test = train_test_split(X, y, test_size = 0.25, random_state=26)\n",
    "\n",
    "#knn classification\n",
    "knnClassifier = KNeighborsClassifier(n_neighbors = 3)\n",
    "knnClassifier.fit(X_train, y_train)\n",
    "y_pred = knnClassifier.predict(X_test)\n",
    "\n",
    "#print score\n",
    "print(knnClassifier.score(X_test, y_test))\n",
    "\n",
    "#plotting confusion matrix\n",
    "cm = confusion_matrix(y_test, y_pred)\n",
    "ax = plt.subplot()\n",
    "sns.heatmap(cm, annot = True, fmt = 'g', ax= ax); #annot = True to annotate cells, ftm ='g' to disable scientific notation\n",
    "\n",
    "#labels, title and ticks\n",
    "ax.set_xlabel('Predicted labels');ax.set_ylabel('True labels');\n",
    "ax.set_title('Confusion Matrix'); \n",
    "ax.xaxis.set_ticklabels(['0', 'X']); ax.yaxis.set_ticklabels (['0', 'x']);\n",
    "\n",
    "tn, fp, fn, tp = cm.ravel()\n",
    "print(\"accuracy: \", (tp+tn)/(tp+fp+tn+fn))\n",
    "print(\"sensitivity: \", tp/(tp+fn))\n",
    "print(\"specificity: \", tn/(tn+fp))\n",
    "print(classification_report (y_test, y_pred, target_names=['0', 'x']))"
   ]
  }
 ],
 "metadata": {
  "kernelspec": {
   "display_name": "Python 3 (ipykernel)",
   "language": "python",
   "name": "python3"
  },
  "language_info": {
   "codemirror_mode": {
    "name": "ipython",
    "version": 3
   },
   "file_extension": ".py",
   "mimetype": "text/x-python",
   "name": "python",
   "nbconvert_exporter": "python",
   "pygments_lexer": "ipython3",
   "version": "3.9.12"
  }
 },
 "nbformat": 4,
 "nbformat_minor": 5
}
